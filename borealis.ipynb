{
  "cells": [
    {
      "cell_type": "markdown",
      "metadata": {
        "id": "D2aRQ8sD2tLL"
      },
      "source": [
        "Subset.py"
      ]
    },
    {
      "cell_type": "code",
      "execution_count": 26,
      "metadata": {
        "id": "DkcLftAD2tLM"
      },
      "outputs": [],
      "source": [
        "import pandas as pd\n",
        "\n",
        "def subset(file_paths=[]):\n",
        "\n",
        "    dataframes = [pd.read_csv(file) for file in file_paths]\n",
        "    combined_df = pd.concat(dataframes, ignore_index=True)\n",
        "\n",
        "    return combined_df"
      ]
    },
    {
      "cell_type": "code",
      "source": [
        "from google.colab import drive\n",
        "drive.mount('/content/drive')"
      ],
      "metadata": {
        "id": "NSEWijaT30VX",
        "outputId": "d2f2f655-b7c0-469f-fedc-09ade4fd9e72",
        "colab": {
          "base_uri": "https://localhost:8080/"
        }
      },
      "execution_count": 25,
      "outputs": [
        {
          "output_type": "stream",
          "name": "stdout",
          "text": [
            "Drive already mounted at /content/drive; to attempt to forcibly remount, call drive.mount(\"/content/drive\", force_remount=True).\n"
          ]
        }
      ]
    },
    {
      "cell_type": "markdown",
      "metadata": {
        "id": "1LdanCNU2tLN"
      },
      "source": [
        "Dataset.py"
      ]
    },
    {
      "cell_type": "code",
      "execution_count": 27,
      "metadata": {
        "id": "-InYUrBM2tLN"
      },
      "outputs": [],
      "source": [
        "from sklearn.model_selection import train_test_split\n",
        "def dataset():\n",
        "    file_paths = [\n",
        "        '/content/drive/MyDrive/combined_features_with_date1.csv',\n",
        "        # '/content/drive/MyDrive/combined_features_with_date2.csv',\n",
        "        # '/content/drive/MyDrive/combined_features_with_date3.csv'\n",
        "    ]\n",
        "\n",
        "    Dataset = subset(file_paths=file_paths)\n",
        "\n",
        "    TrainingData, TestData = train_test_split(Dataset, test_size=0.2, random_state=42)\n",
        "\n",
        "    TrainingData.to_csv(\"TrainingData.csv\", index=False)\n",
        "    TestData.to_csv(\"TestData.csv\", index=False)\n",
        "\n",
        "    with open(\"features_info.txt\", \"w\") as f:\n",
        "        f.write(\"Features used:\\n\")\n",
        "        for feature in Dataset.columns:\n",
        "            f.write(f\"{feature}\\n\")\n",
        "\n",
        "    print(\"Datasets have been successfully split and saved as 'TrainingData.csv' and 'TestData.csv'.\")\n",
        "    print(\"Features info saved as 'features_info.txt'.\")\n",
        "\n",
        "    return TrainingData, TestData\n"
      ]
    },
    {
      "cell_type": "markdown",
      "metadata": {
        "id": "aQLmQ_h72tLN"
      },
      "source": [
        "neuralnet.py"
      ]
    },
    {
      "cell_type": "code",
      "execution_count": 29,
      "metadata": {
        "id": "FWkFm8RF2tLO",
        "outputId": "9f6864b0-6a39-4838-bdb1-9f167bca1d76",
        "colab": {
          "base_uri": "https://localhost:8080/"
        }
      },
      "outputs": [
        {
          "output_type": "stream",
          "name": "stdout",
          "text": [
            "Epoch 1/10\n",
            "\u001b[1m1/3\u001b[0m \u001b[32m━━━━━━\u001b[0m\u001b[37m━━━━━━━━━━━━━━\u001b[0m \u001b[1m2s\u001b[0m 1s/step - loss: 7.0806 - mae: 1.6215\n",
            "Epoch 1: val_loss improved from inf to 8.09063, saving model to /content/checkpoints/model_epoch_01.weights.h5\n",
            "\u001b[1m3/3\u001b[0m \u001b[32m━━━━━━━━━━━━━━━━━━━━\u001b[0m\u001b[37m\u001b[0m \u001b[1m1s\u001b[0m 100ms/step - loss: 7.9026 - mae: 1.6776 - val_loss: 8.0906 - val_mae: 1.6326\n",
            "Epoch 2/10\n",
            "\u001b[1m1/3\u001b[0m \u001b[32m━━━━━━\u001b[0m\u001b[37m━━━━━━━━━━━━━━\u001b[0m \u001b[1m0s\u001b[0m 94ms/step - loss: 5.8985 - mae: 1.5911\n",
            "Epoch 2: val_loss improved from 8.09063 to 7.47118, saving model to /content/checkpoints/model_epoch_02.weights.h5\n",
            "\u001b[1m3/3\u001b[0m \u001b[32m━━━━━━━━━━━━━━━━━━━━\u001b[0m\u001b[37m\u001b[0m \u001b[1m0s\u001b[0m 27ms/step - loss: 7.1574 - mae: 1.6028 - val_loss: 7.4712 - val_mae: 1.5684\n",
            "Epoch 3/10\n",
            "\u001b[1m1/3\u001b[0m \u001b[32m━━━━━━\u001b[0m\u001b[37m━━━━━━━━━━━━━━\u001b[0m \u001b[1m0s\u001b[0m 84ms/step - loss: 1.6809 - mae: 0.9391\n",
            "Epoch 3: val_loss improved from 7.47118 to 6.94973, saving model to /content/checkpoints/model_epoch_03.weights.h5\n",
            "\u001b[1m3/3\u001b[0m \u001b[32m━━━━━━━━━━━━━━━━━━━━\u001b[0m\u001b[37m\u001b[0m \u001b[1m0s\u001b[0m 19ms/step - loss: 5.4538 - mae: 1.3486 - val_loss: 6.9497 - val_mae: 1.5183\n",
            "Epoch 4/10\n",
            "\u001b[1m1/3\u001b[0m \u001b[32m━━━━━━\u001b[0m\u001b[37m━━━━━━━━━━━━━━\u001b[0m \u001b[1m0s\u001b[0m 6ms/step - loss: 7.3910 - mae: 1.4315\n",
            "Epoch 4: val_loss improved from 6.94973 to 6.48767, saving model to /content/checkpoints/model_epoch_04.weights.h5\n",
            "\u001b[1m3/3\u001b[0m \u001b[32m━━━━━━━━━━━━━━━━━━━━\u001b[0m\u001b[37m\u001b[0m \u001b[1m0s\u001b[0m 17ms/step - loss: 7.1936 - mae: 1.5019 - val_loss: 6.4877 - val_mae: 1.4897\n",
            "Epoch 5/10\n",
            "\u001b[1m1/3\u001b[0m \u001b[32m━━━━━━\u001b[0m\u001b[37m━━━━━━━━━━━━━━\u001b[0m \u001b[1m0s\u001b[0m 22ms/step - loss: 0.9912 - mae: 0.8141\n",
            "Epoch 5: val_loss improved from 6.48767 to 6.09524, saving model to /content/checkpoints/model_epoch_05.weights.h5\n",
            "\u001b[1m3/3\u001b[0m \u001b[32m━━━━━━━━━━━━━━━━━━━━\u001b[0m\u001b[37m\u001b[0m \u001b[1m0s\u001b[0m 18ms/step - loss: 4.6323 - mae: 1.2747 - val_loss: 6.0952 - val_mae: 1.4769\n",
            "Epoch 6/10\n",
            "\u001b[1m1/3\u001b[0m \u001b[32m━━━━━━\u001b[0m\u001b[37m━━━━━━━━━━━━━━\u001b[0m \u001b[1m0s\u001b[0m 10ms/step - loss: 4.7791 - mae: 1.3117\n",
            "Epoch 6: val_loss improved from 6.09524 to 5.74541, saving model to /content/checkpoints/model_epoch_06.weights.h5\n",
            "\u001b[1m3/3\u001b[0m \u001b[32m━━━━━━━━━━━━━━━━━━━━\u001b[0m\u001b[37m\u001b[0m \u001b[1m0s\u001b[0m 18ms/step - loss: 6.0500 - mae: 1.4660 - val_loss: 5.7454 - val_mae: 1.4631\n",
            "Epoch 7/10\n",
            "\u001b[1m1/3\u001b[0m \u001b[32m━━━━━━\u001b[0m\u001b[37m━━━━━━━━━━━━━━\u001b[0m \u001b[1m0s\u001b[0m 6ms/step - loss: 6.6944 - mae: 1.5782\n",
            "Epoch 7: val_loss improved from 5.74541 to 5.43918, saving model to /content/checkpoints/model_epoch_07.weights.h5\n",
            "\u001b[1m3/3\u001b[0m \u001b[32m━━━━━━━━━━━━━━━━━━━━\u001b[0m\u001b[37m\u001b[0m \u001b[1m0s\u001b[0m 17ms/step - loss: 5.9802 - mae: 1.4815 - val_loss: 5.4392 - val_mae: 1.4388\n",
            "Epoch 8/10\n",
            "\u001b[1m1/3\u001b[0m \u001b[32m━━━━━━\u001b[0m\u001b[37m━━━━━━━━━━━━━━\u001b[0m \u001b[1m0s\u001b[0m 22ms/step - loss: 3.7276 - mae: 1.2686\n",
            "Epoch 8: val_loss improved from 5.43918 to 5.17892, saving model to /content/checkpoints/model_epoch_08.weights.h5\n",
            "\u001b[1m3/3\u001b[0m \u001b[32m━━━━━━━━━━━━━━━━━━━━\u001b[0m\u001b[37m\u001b[0m \u001b[1m0s\u001b[0m 17ms/step - loss: 4.7611 - mae: 1.3651 - val_loss: 5.1789 - val_mae: 1.4097\n",
            "Epoch 9/10\n",
            "\u001b[1m1/3\u001b[0m \u001b[32m━━━━━━\u001b[0m\u001b[37m━━━━━━━━━━━━━━\u001b[0m \u001b[1m0s\u001b[0m 25ms/step - loss: 5.4271 - mae: 1.3538\n",
            "Epoch 9: val_loss improved from 5.17892 to 4.93874, saving model to /content/checkpoints/model_epoch_09.weights.h5\n",
            "\u001b[1m3/3\u001b[0m \u001b[32m━━━━━━━━━━━━━━━━━━━━\u001b[0m\u001b[37m\u001b[0m \u001b[1m0s\u001b[0m 18ms/step - loss: 5.2716 - mae: 1.3823 - val_loss: 4.9387 - val_mae: 1.3783\n",
            "Epoch 10/10\n",
            "\u001b[1m1/3\u001b[0m \u001b[32m━━━━━━\u001b[0m\u001b[37m━━━━━━━━━━━━━━\u001b[0m \u001b[1m0s\u001b[0m 16ms/step - loss: 3.9874 - mae: 1.2707\n",
            "Epoch 10: val_loss improved from 4.93874 to 4.72341, saving model to /content/checkpoints/model_epoch_10.weights.h5\n",
            "\u001b[1m3/3\u001b[0m \u001b[32m━━━━━━━━━━━━━━━━━━━━\u001b[0m\u001b[37m\u001b[0m \u001b[1m0s\u001b[0m 21ms/step - loss: 4.3693 - mae: 1.3024 - val_loss: 4.7234 - val_mae: 1.3399\n",
            "Model training complete.\n"
          ]
        }
      ],
      "source": [
        "import tensorflow as tf\n",
        "from sklearn.preprocessing import StandardScaler\n",
        "import pandas as pd\n",
        "import numpy as np\n",
        "import os\n",
        "\n",
        "def build_model(input_size):\n",
        "    model = tf.keras.Sequential([\n",
        "        tf.keras.layers.Input(shape=(input_size,)),\n",
        "        tf.keras.layers.Dense(64, activation='relu'),\n",
        "        tf.keras.layers.Dense(32, activation='relu'),\n",
        "        tf.keras.layers.Dense(1)\n",
        "    ])\n",
        "    model.compile(optimizer='adam', loss='mse', metrics=['mae'])\n",
        "    return model\n",
        "\n",
        "def prepare_dataset(data, batch_size=32, shuffle=True):\n",
        "    X = data.drop(columns=[\"streamflow\"]).values\n",
        "    y = data[\"streamflow\"].values\n",
        "\n",
        "    scaler = StandardScaler()\n",
        "    X = scaler.fit_transform(X)\n",
        "\n",
        "    dataset = tf.data.Dataset.from_tensor_slices((X, y))\n",
        "\n",
        "    if shuffle:\n",
        "        dataset = dataset.shuffle(buffer_size=len(X))\n",
        "    dataset = dataset.batch(batch_size)\n",
        "\n",
        "    return dataset, scaler\n",
        "\n",
        "def train_nn(TrainingData, epochs=10, batch_size=32, checkpoint_dir=\"/content/checkpoints\"):\n",
        "    os.makedirs(checkpoint_dir, exist_ok=True)\n",
        "\n",
        "\n",
        "    checkpoint_path = os.path.join(checkpoint_dir, \"model_epoch_{epoch:02d}.weights.h5\")\n",
        "    checkpoint_callback = tf.keras.callbacks.ModelCheckpoint(\n",
        "        filepath=checkpoint_path,\n",
        "        save_weights_only=True,\n",
        "        save_best_only=True,\n",
        "        monitor='val_loss',\n",
        "        mode='min',\n",
        "        verbose=1\n",
        "    )\n",
        "\n",
        "    # Remove unnecessary columns and NaNs\n",
        "    if 'date' in TrainingData.columns:\n",
        "        TrainingData = TrainingData.drop(columns=['date'])\n",
        "    TrainingData = TrainingData.dropna()\n",
        "\n",
        "    train_dataset, scaler = prepare_dataset(TrainingData, batch_size=batch_size, shuffle=True)\n",
        "\n",
        "\n",
        "    input_size = TrainingData.drop(columns=[\"streamflow\"]).shape[1]\n",
        "    model = build_model(input_size)\n",
        "\n",
        "\n",
        "    model.fit(\n",
        "        train_dataset,\n",
        "        epochs=epochs,\n",
        "        validation_data=train_dataset.take(20),\n",
        "        callbacks=[checkpoint_callback],\n",
        "        verbose=1\n",
        "    )\n",
        "\n",
        "    print(\"Model training complete.\")\n",
        "    return model, scaler\n",
        "\n",
        "if __name__ == \"__main__\":\n",
        "\n",
        "    # train_data, validation_data, test_data = dataset\n",
        "    train_data = pd.read_csv('/content/TrainingData.csv').sample(10000, random_state=1)\n",
        "    NNModel, scaler = train_nn(train_data)\n"
      ]
    },
    {
      "cell_type": "markdown",
      "source": [
        "Time Series Forecasting:"
      ],
      "metadata": {
        "id": "R8HU64OWogrs"
      }
    },
    {
      "cell_type": "markdown",
      "source": [
        "Setup"
      ],
      "metadata": {
        "id": "vfbdJ298oix0"
      }
    },
    {
      "cell_type": "code",
      "source": [
        "from google.colab import drive\n",
        "drive.mount('/content/drive')"
      ],
      "metadata": {
        "colab": {
          "base_uri": "https://localhost:8080/"
        },
        "id": "IoAGSAeErymJ",
        "outputId": "ba48aebf-ca64-45c7-d371-5a17d32284b1"
      },
      "execution_count": 1,
      "outputs": [
        {
          "output_type": "stream",
          "name": "stdout",
          "text": [
            "Mounted at /content/drive\n"
          ]
        }
      ]
    },
    {
      "cell_type": "code",
      "source": [
        "import os\n",
        "import datetime\n",
        "\n",
        "import IPython\n",
        "import IPython.display\n",
        "import matplotlib as mpl\n",
        "import matplotlib.pyplot as plt\n",
        "import numpy as np\n",
        "import pandas as pd\n",
        "import seaborn as sns\n",
        "import tensorflow as tf\n",
        "\n",
        "csv_path = '/content/drive/MyDrive/combined_features_with_date1.csv'\n",
        "\n",
        "df = pd.read_csv(csv_path)\n",
        "\n",
        "df['date'] = pd.to_datetime(df['date'], format='%Y-%m-%d')\n",
        "\n",
        "date_time = df.pop('date')\n",
        "\n",
        "# print(df.head())\n",
        "df.describe().transpose()"
      ],
      "metadata": {
        "colab": {
          "base_uri": "https://localhost:8080/",
          "height": 700
        },
        "id": "igVq1RGgolWQ",
        "outputId": "2db14a20-d9d9-4916-8e22-67e752f7407f"
      },
      "execution_count": 2,
      "outputs": [
        {
          "output_type": "execute_result",
          "data": {
            "text/plain": [
              "                                        count        mean         std     min  \\\n",
              "snow_depth_water_equivalent_mean    7891952.0   42.414401   80.804755    0.00   \n",
              "surface_net_solar_radiation_mean    7891952.0  118.645158   81.195738    1.05   \n",
              "surface_net_thermal_radiation_mean  7891952.0  -51.749863   26.108172 -126.44   \n",
              "surface_pressure_mean               7891952.0   98.336203    1.839745   88.06   \n",
              "temperature_2m_mean                 7891952.0    4.651566   11.296679  -47.08   \n",
              "dewpoint_temperature_2m_mean        7891952.0    0.395755   11.085597  -49.90   \n",
              "u_component_of_wind_10m_mean        7891952.0    0.930433    2.058297  -15.35   \n",
              "v_component_of_wind_10m_mean        7891952.0    0.092764    2.041131  -21.17   \n",
              "volumetric_soil_water_layer_1_mean  7891952.0    0.328580    0.076177    0.06   \n",
              "volumetric_soil_water_layer_2_mean  7891952.0    0.328568    0.076529    0.07   \n",
              "volumetric_soil_water_layer_3_mean  7891952.0    0.320182    0.080427    0.10   \n",
              "volumetric_soil_water_layer_4_mean  7891952.0    0.351347    0.069110    0.20   \n",
              "snow_depth_water_equivalent_max     7891952.0   43.122233   81.362230    0.00   \n",
              "surface_net_solar_radiation_max     7891952.0  402.023186  220.851079    5.06   \n",
              "surface_net_thermal_radiation_max   7891952.0  -22.732614   23.498546 -111.12   \n",
              "surface_pressure_max                7891952.0   98.713745    1.826583   88.55   \n",
              "temperature_2m_max                  7891952.0    8.578512   11.630639  -44.61   \n",
              "volumetric_soil_water_layer_1_min   7891952.0    0.320202    0.075722    0.05   \n",
              "total_precipitation_sum             7891952.0    2.987342    5.635921    0.00   \n",
              "potential_evaporation_sum           7891952.0    9.730834    8.529845   -3.33   \n",
              "streamflow                          2849260.0    1.905021    3.058131    0.00   \n",
              "\n",
              "                                       25%     50%     75%     max  \n",
              "snow_depth_water_equivalent_mean      0.00    0.23   47.76  806.96  \n",
              "surface_net_solar_radiation_mean     48.33  100.12  181.74  345.15  \n",
              "surface_net_thermal_radiation_mean  -72.34  -52.76  -31.24   32.79  \n",
              "surface_pressure_mean                97.18   98.48   99.69  104.50  \n",
              "temperature_2m_mean                  -2.95    4.95   14.13   31.33  \n",
              "dewpoint_temperature_2m_mean         -6.93    0.99    9.37   25.66  \n",
              "u_component_of_wind_10m_mean         -0.37    1.02    2.20   19.48  \n",
              "v_component_of_wind_10m_mean         -1.23    0.09    1.44   16.05  \n",
              "volumetric_soil_water_layer_1_mean    0.27    0.34    0.39    0.76  \n",
              "volumetric_soil_water_layer_2_mean    0.27    0.34    0.39    0.76  \n",
              "volumetric_soil_water_layer_3_mean    0.26    0.33    0.38    0.76  \n",
              "volumetric_soil_water_layer_4_mean    0.28    0.37    0.40    0.73  \n",
              "snow_depth_water_equivalent_max       0.00    0.33   49.35  807.71  \n",
              "surface_net_solar_radiation_max     212.69  378.72  589.11  916.61  \n",
              "surface_net_thermal_radiation_max   -38.91  -16.40   -3.70   59.27  \n",
              "surface_pressure_max                 97.56   98.85  100.07  104.74  \n",
              "temperature_2m_max                    0.31    8.69   18.34   38.16  \n",
              "volumetric_soil_water_layer_1_min     0.26    0.34    0.38    0.76  \n",
              "total_precipitation_sum               0.03    0.54    3.30  174.29  \n",
              "potential_evaporation_sum             3.11    7.12   14.20   99.34  \n",
              "streamflow                            0.42    0.92    2.12  148.84  "
            ],
            "text/html": [
              "\n",
              "  <div id=\"df-9ec38c9e-561d-4ae4-a471-35ce09ac033c\" class=\"colab-df-container\">\n",
              "    <div>\n",
              "<style scoped>\n",
              "    .dataframe tbody tr th:only-of-type {\n",
              "        vertical-align: middle;\n",
              "    }\n",
              "\n",
              "    .dataframe tbody tr th {\n",
              "        vertical-align: top;\n",
              "    }\n",
              "\n",
              "    .dataframe thead th {\n",
              "        text-align: right;\n",
              "    }\n",
              "</style>\n",
              "<table border=\"1\" class=\"dataframe\">\n",
              "  <thead>\n",
              "    <tr style=\"text-align: right;\">\n",
              "      <th></th>\n",
              "      <th>count</th>\n",
              "      <th>mean</th>\n",
              "      <th>std</th>\n",
              "      <th>min</th>\n",
              "      <th>25%</th>\n",
              "      <th>50%</th>\n",
              "      <th>75%</th>\n",
              "      <th>max</th>\n",
              "    </tr>\n",
              "  </thead>\n",
              "  <tbody>\n",
              "    <tr>\n",
              "      <th>snow_depth_water_equivalent_mean</th>\n",
              "      <td>7891952.0</td>\n",
              "      <td>42.414401</td>\n",
              "      <td>80.804755</td>\n",
              "      <td>0.00</td>\n",
              "      <td>0.00</td>\n",
              "      <td>0.23</td>\n",
              "      <td>47.76</td>\n",
              "      <td>806.96</td>\n",
              "    </tr>\n",
              "    <tr>\n",
              "      <th>surface_net_solar_radiation_mean</th>\n",
              "      <td>7891952.0</td>\n",
              "      <td>118.645158</td>\n",
              "      <td>81.195738</td>\n",
              "      <td>1.05</td>\n",
              "      <td>48.33</td>\n",
              "      <td>100.12</td>\n",
              "      <td>181.74</td>\n",
              "      <td>345.15</td>\n",
              "    </tr>\n",
              "    <tr>\n",
              "      <th>surface_net_thermal_radiation_mean</th>\n",
              "      <td>7891952.0</td>\n",
              "      <td>-51.749863</td>\n",
              "      <td>26.108172</td>\n",
              "      <td>-126.44</td>\n",
              "      <td>-72.34</td>\n",
              "      <td>-52.76</td>\n",
              "      <td>-31.24</td>\n",
              "      <td>32.79</td>\n",
              "    </tr>\n",
              "    <tr>\n",
              "      <th>surface_pressure_mean</th>\n",
              "      <td>7891952.0</td>\n",
              "      <td>98.336203</td>\n",
              "      <td>1.839745</td>\n",
              "      <td>88.06</td>\n",
              "      <td>97.18</td>\n",
              "      <td>98.48</td>\n",
              "      <td>99.69</td>\n",
              "      <td>104.50</td>\n",
              "    </tr>\n",
              "    <tr>\n",
              "      <th>temperature_2m_mean</th>\n",
              "      <td>7891952.0</td>\n",
              "      <td>4.651566</td>\n",
              "      <td>11.296679</td>\n",
              "      <td>-47.08</td>\n",
              "      <td>-2.95</td>\n",
              "      <td>4.95</td>\n",
              "      <td>14.13</td>\n",
              "      <td>31.33</td>\n",
              "    </tr>\n",
              "    <tr>\n",
              "      <th>dewpoint_temperature_2m_mean</th>\n",
              "      <td>7891952.0</td>\n",
              "      <td>0.395755</td>\n",
              "      <td>11.085597</td>\n",
              "      <td>-49.90</td>\n",
              "      <td>-6.93</td>\n",
              "      <td>0.99</td>\n",
              "      <td>9.37</td>\n",
              "      <td>25.66</td>\n",
              "    </tr>\n",
              "    <tr>\n",
              "      <th>u_component_of_wind_10m_mean</th>\n",
              "      <td>7891952.0</td>\n",
              "      <td>0.930433</td>\n",
              "      <td>2.058297</td>\n",
              "      <td>-15.35</td>\n",
              "      <td>-0.37</td>\n",
              "      <td>1.02</td>\n",
              "      <td>2.20</td>\n",
              "      <td>19.48</td>\n",
              "    </tr>\n",
              "    <tr>\n",
              "      <th>v_component_of_wind_10m_mean</th>\n",
              "      <td>7891952.0</td>\n",
              "      <td>0.092764</td>\n",
              "      <td>2.041131</td>\n",
              "      <td>-21.17</td>\n",
              "      <td>-1.23</td>\n",
              "      <td>0.09</td>\n",
              "      <td>1.44</td>\n",
              "      <td>16.05</td>\n",
              "    </tr>\n",
              "    <tr>\n",
              "      <th>volumetric_soil_water_layer_1_mean</th>\n",
              "      <td>7891952.0</td>\n",
              "      <td>0.328580</td>\n",
              "      <td>0.076177</td>\n",
              "      <td>0.06</td>\n",
              "      <td>0.27</td>\n",
              "      <td>0.34</td>\n",
              "      <td>0.39</td>\n",
              "      <td>0.76</td>\n",
              "    </tr>\n",
              "    <tr>\n",
              "      <th>volumetric_soil_water_layer_2_mean</th>\n",
              "      <td>7891952.0</td>\n",
              "      <td>0.328568</td>\n",
              "      <td>0.076529</td>\n",
              "      <td>0.07</td>\n",
              "      <td>0.27</td>\n",
              "      <td>0.34</td>\n",
              "      <td>0.39</td>\n",
              "      <td>0.76</td>\n",
              "    </tr>\n",
              "    <tr>\n",
              "      <th>volumetric_soil_water_layer_3_mean</th>\n",
              "      <td>7891952.0</td>\n",
              "      <td>0.320182</td>\n",
              "      <td>0.080427</td>\n",
              "      <td>0.10</td>\n",
              "      <td>0.26</td>\n",
              "      <td>0.33</td>\n",
              "      <td>0.38</td>\n",
              "      <td>0.76</td>\n",
              "    </tr>\n",
              "    <tr>\n",
              "      <th>volumetric_soil_water_layer_4_mean</th>\n",
              "      <td>7891952.0</td>\n",
              "      <td>0.351347</td>\n",
              "      <td>0.069110</td>\n",
              "      <td>0.20</td>\n",
              "      <td>0.28</td>\n",
              "      <td>0.37</td>\n",
              "      <td>0.40</td>\n",
              "      <td>0.73</td>\n",
              "    </tr>\n",
              "    <tr>\n",
              "      <th>snow_depth_water_equivalent_max</th>\n",
              "      <td>7891952.0</td>\n",
              "      <td>43.122233</td>\n",
              "      <td>81.362230</td>\n",
              "      <td>0.00</td>\n",
              "      <td>0.00</td>\n",
              "      <td>0.33</td>\n",
              "      <td>49.35</td>\n",
              "      <td>807.71</td>\n",
              "    </tr>\n",
              "    <tr>\n",
              "      <th>surface_net_solar_radiation_max</th>\n",
              "      <td>7891952.0</td>\n",
              "      <td>402.023186</td>\n",
              "      <td>220.851079</td>\n",
              "      <td>5.06</td>\n",
              "      <td>212.69</td>\n",
              "      <td>378.72</td>\n",
              "      <td>589.11</td>\n",
              "      <td>916.61</td>\n",
              "    </tr>\n",
              "    <tr>\n",
              "      <th>surface_net_thermal_radiation_max</th>\n",
              "      <td>7891952.0</td>\n",
              "      <td>-22.732614</td>\n",
              "      <td>23.498546</td>\n",
              "      <td>-111.12</td>\n",
              "      <td>-38.91</td>\n",
              "      <td>-16.40</td>\n",
              "      <td>-3.70</td>\n",
              "      <td>59.27</td>\n",
              "    </tr>\n",
              "    <tr>\n",
              "      <th>surface_pressure_max</th>\n",
              "      <td>7891952.0</td>\n",
              "      <td>98.713745</td>\n",
              "      <td>1.826583</td>\n",
              "      <td>88.55</td>\n",
              "      <td>97.56</td>\n",
              "      <td>98.85</td>\n",
              "      <td>100.07</td>\n",
              "      <td>104.74</td>\n",
              "    </tr>\n",
              "    <tr>\n",
              "      <th>temperature_2m_max</th>\n",
              "      <td>7891952.0</td>\n",
              "      <td>8.578512</td>\n",
              "      <td>11.630639</td>\n",
              "      <td>-44.61</td>\n",
              "      <td>0.31</td>\n",
              "      <td>8.69</td>\n",
              "      <td>18.34</td>\n",
              "      <td>38.16</td>\n",
              "    </tr>\n",
              "    <tr>\n",
              "      <th>volumetric_soil_water_layer_1_min</th>\n",
              "      <td>7891952.0</td>\n",
              "      <td>0.320202</td>\n",
              "      <td>0.075722</td>\n",
              "      <td>0.05</td>\n",
              "      <td>0.26</td>\n",
              "      <td>0.34</td>\n",
              "      <td>0.38</td>\n",
              "      <td>0.76</td>\n",
              "    </tr>\n",
              "    <tr>\n",
              "      <th>total_precipitation_sum</th>\n",
              "      <td>7891952.0</td>\n",
              "      <td>2.987342</td>\n",
              "      <td>5.635921</td>\n",
              "      <td>0.00</td>\n",
              "      <td>0.03</td>\n",
              "      <td>0.54</td>\n",
              "      <td>3.30</td>\n",
              "      <td>174.29</td>\n",
              "    </tr>\n",
              "    <tr>\n",
              "      <th>potential_evaporation_sum</th>\n",
              "      <td>7891952.0</td>\n",
              "      <td>9.730834</td>\n",
              "      <td>8.529845</td>\n",
              "      <td>-3.33</td>\n",
              "      <td>3.11</td>\n",
              "      <td>7.12</td>\n",
              "      <td>14.20</td>\n",
              "      <td>99.34</td>\n",
              "    </tr>\n",
              "    <tr>\n",
              "      <th>streamflow</th>\n",
              "      <td>2849260.0</td>\n",
              "      <td>1.905021</td>\n",
              "      <td>3.058131</td>\n",
              "      <td>0.00</td>\n",
              "      <td>0.42</td>\n",
              "      <td>0.92</td>\n",
              "      <td>2.12</td>\n",
              "      <td>148.84</td>\n",
              "    </tr>\n",
              "  </tbody>\n",
              "</table>\n",
              "</div>\n",
              "    <div class=\"colab-df-buttons\">\n",
              "\n",
              "  <div class=\"colab-df-container\">\n",
              "    <button class=\"colab-df-convert\" onclick=\"convertToInteractive('df-9ec38c9e-561d-4ae4-a471-35ce09ac033c')\"\n",
              "            title=\"Convert this dataframe to an interactive table.\"\n",
              "            style=\"display:none;\">\n",
              "\n",
              "  <svg xmlns=\"http://www.w3.org/2000/svg\" height=\"24px\" viewBox=\"0 -960 960 960\">\n",
              "    <path d=\"M120-120v-720h720v720H120Zm60-500h600v-160H180v160Zm220 220h160v-160H400v160Zm0 220h160v-160H400v160ZM180-400h160v-160H180v160Zm440 0h160v-160H620v160ZM180-180h160v-160H180v160Zm440 0h160v-160H620v160Z\"/>\n",
              "  </svg>\n",
              "    </button>\n",
              "\n",
              "  <style>\n",
              "    .colab-df-container {\n",
              "      display:flex;\n",
              "      gap: 12px;\n",
              "    }\n",
              "\n",
              "    .colab-df-convert {\n",
              "      background-color: #E8F0FE;\n",
              "      border: none;\n",
              "      border-radius: 50%;\n",
              "      cursor: pointer;\n",
              "      display: none;\n",
              "      fill: #1967D2;\n",
              "      height: 32px;\n",
              "      padding: 0 0 0 0;\n",
              "      width: 32px;\n",
              "    }\n",
              "\n",
              "    .colab-df-convert:hover {\n",
              "      background-color: #E2EBFA;\n",
              "      box-shadow: 0px 1px 2px rgba(60, 64, 67, 0.3), 0px 1px 3px 1px rgba(60, 64, 67, 0.15);\n",
              "      fill: #174EA6;\n",
              "    }\n",
              "\n",
              "    .colab-df-buttons div {\n",
              "      margin-bottom: 4px;\n",
              "    }\n",
              "\n",
              "    [theme=dark] .colab-df-convert {\n",
              "      background-color: #3B4455;\n",
              "      fill: #D2E3FC;\n",
              "    }\n",
              "\n",
              "    [theme=dark] .colab-df-convert:hover {\n",
              "      background-color: #434B5C;\n",
              "      box-shadow: 0px 1px 3px 1px rgba(0, 0, 0, 0.15);\n",
              "      filter: drop-shadow(0px 1px 2px rgba(0, 0, 0, 0.3));\n",
              "      fill: #FFFFFF;\n",
              "    }\n",
              "  </style>\n",
              "\n",
              "    <script>\n",
              "      const buttonEl =\n",
              "        document.querySelector('#df-9ec38c9e-561d-4ae4-a471-35ce09ac033c button.colab-df-convert');\n",
              "      buttonEl.style.display =\n",
              "        google.colab.kernel.accessAllowed ? 'block' : 'none';\n",
              "\n",
              "      async function convertToInteractive(key) {\n",
              "        const element = document.querySelector('#df-9ec38c9e-561d-4ae4-a471-35ce09ac033c');\n",
              "        const dataTable =\n",
              "          await google.colab.kernel.invokeFunction('convertToInteractive',\n",
              "                                                    [key], {});\n",
              "        if (!dataTable) return;\n",
              "\n",
              "        const docLinkHtml = 'Like what you see? Visit the ' +\n",
              "          '<a target=\"_blank\" href=https://colab.research.google.com/notebooks/data_table.ipynb>data table notebook</a>'\n",
              "          + ' to learn more about interactive tables.';\n",
              "        element.innerHTML = '';\n",
              "        dataTable['output_type'] = 'display_data';\n",
              "        await google.colab.output.renderOutput(dataTable, element);\n",
              "        const docLink = document.createElement('div');\n",
              "        docLink.innerHTML = docLinkHtml;\n",
              "        element.appendChild(docLink);\n",
              "      }\n",
              "    </script>\n",
              "  </div>\n",
              "\n",
              "\n",
              "<div id=\"df-22e83422-47a0-4fa3-a002-a3a501d656bc\">\n",
              "  <button class=\"colab-df-quickchart\" onclick=\"quickchart('df-22e83422-47a0-4fa3-a002-a3a501d656bc')\"\n",
              "            title=\"Suggest charts\"\n",
              "            style=\"display:none;\">\n",
              "\n",
              "<svg xmlns=\"http://www.w3.org/2000/svg\" height=\"24px\"viewBox=\"0 0 24 24\"\n",
              "     width=\"24px\">\n",
              "    <g>\n",
              "        <path d=\"M19 3H5c-1.1 0-2 .9-2 2v14c0 1.1.9 2 2 2h14c1.1 0 2-.9 2-2V5c0-1.1-.9-2-2-2zM9 17H7v-7h2v7zm4 0h-2V7h2v10zm4 0h-2v-4h2v4z\"/>\n",
              "    </g>\n",
              "</svg>\n",
              "  </button>\n",
              "\n",
              "<style>\n",
              "  .colab-df-quickchart {\n",
              "      --bg-color: #E8F0FE;\n",
              "      --fill-color: #1967D2;\n",
              "      --hover-bg-color: #E2EBFA;\n",
              "      --hover-fill-color: #174EA6;\n",
              "      --disabled-fill-color: #AAA;\n",
              "      --disabled-bg-color: #DDD;\n",
              "  }\n",
              "\n",
              "  [theme=dark] .colab-df-quickchart {\n",
              "      --bg-color: #3B4455;\n",
              "      --fill-color: #D2E3FC;\n",
              "      --hover-bg-color: #434B5C;\n",
              "      --hover-fill-color: #FFFFFF;\n",
              "      --disabled-bg-color: #3B4455;\n",
              "      --disabled-fill-color: #666;\n",
              "  }\n",
              "\n",
              "  .colab-df-quickchart {\n",
              "    background-color: var(--bg-color);\n",
              "    border: none;\n",
              "    border-radius: 50%;\n",
              "    cursor: pointer;\n",
              "    display: none;\n",
              "    fill: var(--fill-color);\n",
              "    height: 32px;\n",
              "    padding: 0;\n",
              "    width: 32px;\n",
              "  }\n",
              "\n",
              "  .colab-df-quickchart:hover {\n",
              "    background-color: var(--hover-bg-color);\n",
              "    box-shadow: 0 1px 2px rgba(60, 64, 67, 0.3), 0 1px 3px 1px rgba(60, 64, 67, 0.15);\n",
              "    fill: var(--button-hover-fill-color);\n",
              "  }\n",
              "\n",
              "  .colab-df-quickchart-complete:disabled,\n",
              "  .colab-df-quickchart-complete:disabled:hover {\n",
              "    background-color: var(--disabled-bg-color);\n",
              "    fill: var(--disabled-fill-color);\n",
              "    box-shadow: none;\n",
              "  }\n",
              "\n",
              "  .colab-df-spinner {\n",
              "    border: 2px solid var(--fill-color);\n",
              "    border-color: transparent;\n",
              "    border-bottom-color: var(--fill-color);\n",
              "    animation:\n",
              "      spin 1s steps(1) infinite;\n",
              "  }\n",
              "\n",
              "  @keyframes spin {\n",
              "    0% {\n",
              "      border-color: transparent;\n",
              "      border-bottom-color: var(--fill-color);\n",
              "      border-left-color: var(--fill-color);\n",
              "    }\n",
              "    20% {\n",
              "      border-color: transparent;\n",
              "      border-left-color: var(--fill-color);\n",
              "      border-top-color: var(--fill-color);\n",
              "    }\n",
              "    30% {\n",
              "      border-color: transparent;\n",
              "      border-left-color: var(--fill-color);\n",
              "      border-top-color: var(--fill-color);\n",
              "      border-right-color: var(--fill-color);\n",
              "    }\n",
              "    40% {\n",
              "      border-color: transparent;\n",
              "      border-right-color: var(--fill-color);\n",
              "      border-top-color: var(--fill-color);\n",
              "    }\n",
              "    60% {\n",
              "      border-color: transparent;\n",
              "      border-right-color: var(--fill-color);\n",
              "    }\n",
              "    80% {\n",
              "      border-color: transparent;\n",
              "      border-right-color: var(--fill-color);\n",
              "      border-bottom-color: var(--fill-color);\n",
              "    }\n",
              "    90% {\n",
              "      border-color: transparent;\n",
              "      border-bottom-color: var(--fill-color);\n",
              "    }\n",
              "  }\n",
              "</style>\n",
              "\n",
              "  <script>\n",
              "    async function quickchart(key) {\n",
              "      const quickchartButtonEl =\n",
              "        document.querySelector('#' + key + ' button');\n",
              "      quickchartButtonEl.disabled = true;  // To prevent multiple clicks.\n",
              "      quickchartButtonEl.classList.add('colab-df-spinner');\n",
              "      try {\n",
              "        const charts = await google.colab.kernel.invokeFunction(\n",
              "            'suggestCharts', [key], {});\n",
              "      } catch (error) {\n",
              "        console.error('Error during call to suggestCharts:', error);\n",
              "      }\n",
              "      quickchartButtonEl.classList.remove('colab-df-spinner');\n",
              "      quickchartButtonEl.classList.add('colab-df-quickchart-complete');\n",
              "    }\n",
              "    (() => {\n",
              "      let quickchartButtonEl =\n",
              "        document.querySelector('#df-22e83422-47a0-4fa3-a002-a3a501d656bc button');\n",
              "      quickchartButtonEl.style.display =\n",
              "        google.colab.kernel.accessAllowed ? 'block' : 'none';\n",
              "    })();\n",
              "  </script>\n",
              "</div>\n",
              "\n",
              "    </div>\n",
              "  </div>\n"
            ],
            "application/vnd.google.colaboratory.intrinsic+json": {
              "type": "dataframe",
              "summary": "{\n  \"name\": \"df\",\n  \"rows\": 21,\n  \"fields\": [\n    {\n      \"column\": \"count\",\n      \"properties\": {\n        \"dtype\": \"number\",\n        \"std\": 1100405.609349917,\n        \"min\": 2849260.0,\n        \"max\": 7891952.0,\n        \"num_unique_values\": 2,\n        \"samples\": [\n          2849260.0,\n          7891952.0\n        ],\n        \"semantic_type\": \"\",\n        \"description\": \"\"\n      }\n    },\n    {\n      \"column\": \"mean\",\n      \"properties\": {\n        \"dtype\": \"number\",\n        \"std\": 93.45815003637281,\n        \"min\": -51.74986297306423,\n        \"max\": 402.02318573022245,\n        \"num_unique_values\": 21,\n        \"samples\": [\n          42.41440139777842,\n          0.3202021743163163\n        ],\n        \"semantic_type\": \"\",\n        \"description\": \"\"\n      }\n    },\n    {\n      \"column\": \"std\",\n      \"properties\": {\n        \"dtype\": \"number\",\n        \"std\": 52.25901926127245,\n        \"min\": 0.06910981355817472,\n        \"max\": 220.85107870438725,\n        \"num_unique_values\": 21,\n        \"samples\": [\n          80.80475451508934,\n          0.0757224244541436\n        ],\n        \"semantic_type\": \"\",\n        \"description\": \"\"\n      }\n    },\n    {\n      \"column\": \"min\",\n      \"properties\": {\n        \"dtype\": \"number\",\n        \"std\": 49.34619177664212,\n        \"min\": -126.44,\n        \"max\": 88.55,\n        \"num_unique_values\": 18,\n        \"samples\": [\n          0.0,\n          1.05\n        ],\n        \"semantic_type\": \"\",\n        \"description\": \"\"\n      }\n    },\n    {\n      \"column\": \"25%\",\n      \"properties\": {\n        \"dtype\": \"number\",\n        \"std\": 58.2677260010491,\n        \"min\": -72.34,\n        \"max\": 212.69,\n        \"num_unique_values\": 18,\n        \"samples\": [\n          0.0,\n          48.33\n        ],\n        \"semantic_type\": \"\",\n        \"description\": \"\"\n      }\n    },\n    {\n      \"column\": \"50%\",\n      \"properties\": {\n        \"dtype\": \"number\",\n        \"std\": 88.60374617469894,\n        \"min\": -52.76,\n        \"max\": 378.72,\n        \"num_unique_values\": 18,\n        \"samples\": [\n          0.23,\n          100.12\n        ],\n        \"semantic_type\": \"\",\n        \"description\": \"\"\n      }\n    },\n    {\n      \"column\": \"75%\",\n      \"properties\": {\n        \"dtype\": \"number\",\n        \"std\": 132.09589258961697,\n        \"min\": -31.24,\n        \"max\": 589.11,\n        \"num_unique_values\": 19,\n        \"samples\": [\n          47.76,\n          9.37\n        ],\n        \"semantic_type\": \"\",\n        \"description\": \"\"\n      }\n    },\n    {\n      \"column\": \"max\",\n      \"properties\": {\n        \"dtype\": \"number\",\n        \"std\": 290.80269016080626,\n        \"min\": 0.73,\n        \"max\": 916.61,\n        \"num_unique_values\": 18,\n        \"samples\": [\n          806.96,\n          345.15\n        ],\n        \"semantic_type\": \"\",\n        \"description\": \"\"\n      }\n    }\n  ]\n}"
            }
          },
          "metadata": {},
          "execution_count": 2
        }
      ]
    },
    {
      "cell_type": "code",
      "source": [
        "import numpy as np\n",
        "\n",
        "\n",
        "timestamp_s = date_time.map(pd.Timestamp.timestamp)\n",
        "\n",
        "\n",
        "year = 365.2425 * 24 * 60 * 60  # seconds in a year\n",
        "\n",
        "# Add sine and cosine transforms for yearly periodicity\n",
        "df['Year sin'] = np.sin(timestamp_s * (2 * np.pi / year))\n",
        "df['Year cos'] = np.cos(timestamp_s * (2 * np.pi / year))\n",
        "\n",
        "\n",
        "print(df[['Year sin', 'Year cos']].head())"
      ],
      "metadata": {
        "colab": {
          "base_uri": "https://localhost:8080/"
        },
        "id": "uPxIHxQV1oDI",
        "outputId": "f2adc4d2-7081-4260-a4f8-f4eae4e6c750"
      },
      "execution_count": 3,
      "outputs": [
        {
          "output_type": "stream",
          "name": "stdout",
          "text": [
            "   Year sin  Year cos\n",
            "0 -0.006752  0.999977\n",
            "1  0.010450  0.999945\n",
            "2  0.027650  0.999618\n",
            "3  0.044841  0.998994\n",
            "4  0.062019  0.998075\n"
          ]
        }
      ]
    },
    {
      "cell_type": "code",
      "source": [
        "column_indices = {name: i for i, name in enumerate(df.columns)}\n",
        "\n",
        "n = len(df)\n",
        "\n",
        "train_df = df[0:int(n * 0.7)]  # First 70% of the data\n",
        "val_df = df[int(n * 0.7):int(n * 0.9)]  # Next 20% of the data\n",
        "test_df = df[int(n * 0.9):]  # Last 10% of the data\n",
        "\n",
        "num_features = df.shape[1]"
      ],
      "metadata": {
        "id": "CUcKqIYRIbVB"
      },
      "execution_count": 4,
      "outputs": []
    },
    {
      "cell_type": "code",
      "source": [
        "# Compute the mean and standard deviation of the training data\n",
        "train_mean = train_df.mean()\n",
        "train_std = train_df.std()\n",
        "\n",
        "# Normalize the datasets\n",
        "train_df = (train_df - train_mean) / train_std\n",
        "val_df = (val_df - train_mean) / train_std\n",
        "test_df = (test_df - train_mean) / train_std"
      ],
      "metadata": {
        "id": "_VQaWaegKjvG"
      },
      "execution_count": 5,
      "outputs": []
    },
    {
      "cell_type": "code",
      "source": [
        "class WindowGenerator():\n",
        "  def __init__(self, input_width, label_width, shift,\n",
        "               train_df=train_df, val_df=val_df, test_df=test_df,\n",
        "               label_columns=None):\n",
        "    # Store the raw data.\n",
        "    self.train_df = train_df\n",
        "    self.val_df = val_df\n",
        "    self.test_df = test_df\n",
        "\n",
        "    # Work out the label column indices.\n",
        "    self.label_columns = label_columns\n",
        "    if label_columns is not None:\n",
        "      self.label_columns_indices = {name: i for i, name in\n",
        "                                    enumerate(label_columns)}\n",
        "    self.column_indices = {name: i for i, name in\n",
        "                           enumerate(train_df.columns)}\n",
        "\n",
        "    # Work out the window parameters.\n",
        "    self.input_width = input_width\n",
        "    self.label_width = label_width\n",
        "    self.shift = shift\n",
        "\n",
        "    self.total_window_size = input_width + shift\n",
        "\n",
        "    self.input_slice = slice(0, input_width)\n",
        "    self.input_indices = np.arange(self.total_window_size)[self.input_slice]\n",
        "\n",
        "    self.label_start = self.total_window_size - self.label_width\n",
        "    self.labels_slice = slice(self.label_start, None)\n",
        "    self.label_indices = np.arange(self.total_window_size)[self.labels_slice]\n",
        "\n",
        "  def __repr__(self):\n",
        "    return '\\n'.join([\n",
        "        f'Total window size: {self.total_window_size}',\n",
        "        f'Input indices: {self.input_indices}',\n",
        "        f'Label indices: {self.label_indices}',\n",
        "        f'Label column name(s): {self.label_columns}'])"
      ],
      "metadata": {
        "id": "pYthDnfML05R"
      },
      "execution_count": 6,
      "outputs": []
    },
    {
      "cell_type": "code",
      "source": [
        "input_width = 7       # Number of days in the input\n",
        "label_width = 1       # Predict 1 day\n",
        "shift = 1             # Offset of 1 day into the future\n",
        "label_columns = [\"streamflow\"]  # Target column\n",
        "\n",
        "w2 = WindowGenerator(\n",
        "    input_width=input_width,\n",
        "    label_width=label_width,\n",
        "    shift=shift,\n",
        "    train_df=train_df,\n",
        "    val_df=val_df,\n",
        "    test_df=test_df,\n",
        "    label_columns=label_columns\n",
        ")\n",
        "\n",
        "print(w2)"
      ],
      "metadata": {
        "id": "VBWS5NnSMhYZ",
        "outputId": "fa5154ed-b509-4025-91b2-17ba6e097367",
        "colab": {
          "base_uri": "https://localhost:8080/"
        }
      },
      "execution_count": 11,
      "outputs": [
        {
          "output_type": "stream",
          "name": "stdout",
          "text": [
            "Total window size: 8\n",
            "Input indices: [0 1 2 3 4 5 6]\n",
            "Label indices: [7]\n",
            "Label column name(s): ['streamflow']\n"
          ]
        }
      ]
    },
    {
      "cell_type": "code",
      "source": [
        "def split_window(self, features):\n",
        "  inputs = features[:, self.input_slice, :]\n",
        "  labels = features[:, self.labels_slice, :]\n",
        "  if self.label_columns is not None:\n",
        "    labels = tf.stack(\n",
        "        [labels[:, :, self.column_indices[name]] for name in self.label_columns],\n",
        "        axis=-1)\n",
        "\n",
        "  # Slicing doesn't preserve static shape information, so set the shapes\n",
        "  # manually. This way the `tf.data.Datasets` are easier to inspect.\n",
        "  inputs.set_shape([None, self.input_width, None])\n",
        "  labels.set_shape([None, self.label_width, None])\n",
        "\n",
        "  return inputs, labels\n",
        "\n",
        "WindowGenerator.split_window = split_window\n"
      ],
      "metadata": {
        "id": "VTtE3YFFO1ea"
      },
      "execution_count": 12,
      "outputs": []
    },
    {
      "cell_type": "code",
      "source": [
        "# Stack three slices, the length of the total window.\n",
        "example_window = tf.stack([np.array(train_df[:w2.total_window_size]),\n",
        "                           np.array(train_df[100:100+w2.total_window_size]),\n",
        "                           np.array(train_df[200:200+w2.total_window_size])])\n",
        "\n",
        "example_inputs, example_labels = w2.split_window(example_window)\n",
        "\n",
        "print('All shapes are: (batch, time, features)')\n",
        "print(f'Window shape: {example_window.shape}')\n",
        "print(f'Inputs shape: {example_inputs.shape}')\n",
        "print(f'Labels shape: {example_labels.shape}')"
      ],
      "metadata": {
        "id": "7e_rqa3mO_9r",
        "outputId": "fa6a5c7e-fdf6-4f66-f2b8-2b452a68e877",
        "colab": {
          "base_uri": "https://localhost:8080/"
        }
      },
      "execution_count": 13,
      "outputs": [
        {
          "output_type": "stream",
          "name": "stdout",
          "text": [
            "All shapes are: (batch, time, features)\n",
            "Window shape: (3, 8, 23)\n",
            "Inputs shape: (3, 7, 23)\n",
            "Labels shape: (3, 1, 1)\n"
          ]
        }
      ]
    },
    {
      "cell_type": "code",
      "source": [
        "w2.example = example_inputs, example_labels"
      ],
      "metadata": {
        "id": "nsuWopacQQU4"
      },
      "execution_count": 14,
      "outputs": []
    },
    {
      "cell_type": "code",
      "source": [
        "def plot(self, model=None, plot_col='surface_pressure_mean', max_subplots=3):\n",
        "  inputs, labels = self.example\n",
        "  plt.figure(figsize=(12, 8))\n",
        "  plot_col_index = self.column_indices[plot_col]\n",
        "  max_n = min(max_subplots, len(inputs))\n",
        "  for n in range(max_n):\n",
        "    plt.subplot(max_n, 1, n+1)\n",
        "    plt.ylabel(f'{plot_col} [normed]')\n",
        "    plt.plot(self.input_indices, inputs[n, :, plot_col_index],\n",
        "             label='Inputs', marker='.', zorder=-10)\n",
        "\n",
        "    if self.label_columns:\n",
        "      label_col_index = self.label_columns_indices.get(plot_col, None)\n",
        "    else:\n",
        "      label_col_index = plot_col_index\n",
        "\n",
        "    if label_col_index is None:\n",
        "      continue\n",
        "\n",
        "    plt.scatter(self.label_indices, labels[n, :, label_col_index],\n",
        "                edgecolors='k', label='Labels', c='#2ca02c', s=64)\n",
        "    if model is not None:\n",
        "      predictions = model(inputs)\n",
        "      plt.scatter(self.label_indices, predictions[n, :, label_col_index],\n",
        "                  marker='X', edgecolors='k', label='Predictions',\n",
        "                  c='#ff7f0e', s=64)\n",
        "\n",
        "    if n == 0:\n",
        "      plt.legend()\n",
        "\n",
        "  plt.xlabel('Time [h]')\n",
        "\n",
        "WindowGenerator.plot = plot"
      ],
      "metadata": {
        "id": "G6Za9snnQRKP"
      },
      "execution_count": 17,
      "outputs": []
    },
    {
      "cell_type": "code",
      "source": [
        "w2.plot()"
      ],
      "metadata": {
        "id": "iE9F70ruQUNU",
        "outputId": "71c0776c-012f-4c27-880f-d49edad99182",
        "colab": {
          "base_uri": "https://localhost:8080/",
          "height": 696
        }
      },
      "execution_count": 18,
      "outputs": [
        {
          "output_type": "display_data",
          "data": {
            "text/plain": [
              "<Figure size 1200x800 with 3 Axes>"
            ],
            "image/png": "[encoded data removed]"
          },
          "metadata": {}
        }
      ]
    },
    {
      "cell_type": "code",
      "source": [
        "def make_dataset(self, data):\n",
        "    # Convert to NumPy array\n",
        "    data = np.array(data, dtype=np.float32)\n",
        "\n",
        "    # Create the dataset with overlapping windows\n",
        "    ds = tf.keras.utils.timeseries_dataset_from_array(\n",
        "        data=data,\n",
        "        targets=None,  # We handle labels separately in `split_window`\n",
        "        sequence_length=self.total_window_size,  # Full window size\n",
        "        sequence_stride=1,  # Slide by one step\n",
        "        shuffle=True,  # Shuffle windows\n",
        "        batch_size=32,  # Number of windows in each batch\n",
        "    )\n",
        "\n",
        "    # Map to (inputs, labels) using the `split_window` method\n",
        "    ds = ds.map(self.split_window)\n",
        "\n",
        "    return ds\n",
        "\n",
        "# Add the method to the WindowGenerator class\n",
        "WindowGenerator.make_dataset = make_dataset\n"
      ],
      "metadata": {
        "id": "bUI9ljzrUs13"
      },
      "execution_count": 19,
      "outputs": []
    },
    {
      "cell_type": "code",
      "source": [
        "@property\n",
        "def train(self):\n",
        "    return self.make_dataset(self.train_df)\n",
        "\n",
        "@property\n",
        "def val(self):\n",
        "    return self.make_dataset(self.val_df)\n",
        "\n",
        "@property\n",
        "def test(self):\n",
        "    return self.make_dataset(self.test_df)\n",
        "\n",
        "WindowGenerator.train = train\n",
        "WindowGenerator.val = val\n",
        "WindowGenerator.test = test"
      ],
      "metadata": {
        "id": "HEUSD380U-oT"
      },
      "execution_count": 20,
      "outputs": []
    },
    {
      "cell_type": "code",
      "source": [
        "w2.train.element_spec"
      ],
      "metadata": {
        "id": "cHNYLq0oVPdO",
        "outputId": "67c4042c-3ce8-4ac9-88d2-d998485816bf",
        "colab": {
          "base_uri": "https://localhost:8080/"
        }
      },
      "execution_count": 21,
      "outputs": [
        {
          "output_type": "execute_result",
          "data": {
            "text/plain": [
              "(TensorSpec(shape=(None, 7, 23), dtype=tf.float32, name=None),\n",
              " TensorSpec(shape=(None, 1, 1), dtype=tf.float32, name=None))"
            ]
          },
          "metadata": {},
          "execution_count": 21
        }
      ]
    },
    {
      "cell_type": "code",
      "source": [
        "seven_day_window = WindowGenerator(\n",
        "    input_width=7,  # Number of days as input\n",
        "    label_width=1,  # Single day to predict\n",
        "    shift=1,        # Predict the day immediately following the 7-day input\n",
        "    label_columns=['streamflow']  # Column to predict\n",
        ")\n",
        "\n",
        "# Print window configuration for verification\n",
        "print(seven_day_window)"
      ],
      "metadata": {
        "id": "8ozgIj-sY2p1",
        "outputId": "2238c5e0-7f75-4b2f-f767-a1bd2c4e7180",
        "colab": {
          "base_uri": "https://localhost:8080/"
        }
      },
      "execution_count": 22,
      "outputs": [
        {
          "output_type": "stream",
          "name": "stdout",
          "text": [
            "Total window size: 8\n",
            "Input indices: [0 1 2 3 4 5 6]\n",
            "Label indices: [7]\n",
            "Label column name(s): ['streamflow']\n"
          ]
        }
      ]
    },
    {
      "cell_type": "code",
      "source": [
        "for example_inputs, example_labels in seven_day_window.train.take(1):\n",
        "    print(f'Inputs shape (batch, time, features): {example_inputs.shape}')\n",
        "    print(f'Labels shape (batch, time, features): {example_labels.shape}')"
      ],
      "metadata": {
        "id": "jQ1ZbNZTY9Qb",
        "outputId": "12d5aaaf-2a67-4c9e-c826-fe88967540bb",
        "colab": {
          "base_uri": "https://localhost:8080/"
        }
      },
      "execution_count": 23,
      "outputs": [
        {
          "output_type": "stream",
          "name": "stdout",
          "text": [
            "Inputs shape (batch, time, features): (32, 7, 23)\n",
            "Labels shape (batch, time, features): (32, 1, 1)\n"
          ]
        }
      ]
    },
    {
      "cell_type": "code",
      "source": [
        "# Check one batch from the train dataset\n",
        "for example_inputs, example_labels in seven_day_window.train.take(1):\n",
        "    print(f\"Example inputs: {example_inputs.numpy()}\")\n",
        "    print(f\"Example labels: {example_labels.numpy()}\")"
      ],
      "metadata": {
        "id": "fsT40sH6ZFb9",
        "outputId": "cf0a63cc-5678-4c18-a505-2bdcfdb6a1aa",
        "colab": {
          "base_uri": "https://localhost:8080/"
        }
      },
      "execution_count": 25,
      "outputs": [
        {
          "output_type": "stream",
          "name": "stdout",
          "text": [
            "Example inputs: [[[-0.49462876 -1.3195564   1.7585562  ...         nan -1.4013326\n",
            "    0.19058107]\n",
            "  [-0.49462876 -0.5209523   0.45760497 ...         nan -1.3978478\n",
            "    0.21465853]\n",
            "  [-0.49462876 -0.9391806   0.5632444  ...         nan -1.3939493\n",
            "    0.23867248]\n",
            "  ...\n",
            "  [-0.49462876 -0.42613575  0.9815455  ...         nan -1.3849161\n",
            "    0.28648144]\n",
            "  [-0.49462876 -1.0007066   1.0720935  ...         nan -1.379784\n",
            "    0.31026232]\n",
            "  [-0.49462876 -0.7287101   0.15268245 ...         nan -1.3742436\n",
            "    0.33395138]]\n",
            "\n",
            " [[-0.49462876  0.02797244  0.77568406 ... -0.3534259  -1.1245252\n",
            "   -0.85756415]\n",
            "  [-0.49462876  0.808205   -0.11083563 ... -0.39688316 -1.139111\n",
            "   -0.83809334]\n",
            "  [-0.49462876  0.5469356  -0.14411397 ... -0.41663647 -1.1533599\n",
            "   -0.81837445]\n",
            "  ...\n",
            "  [-0.49462876  0.7101827  -0.6858545  ... -0.4403404  -1.1808293\n",
            "   -0.77821606]\n",
            "  [-0.49462876  1.1231092  -0.80581135 ... -0.4521924  -1.194042\n",
            "   -0.7577884 ]\n",
            "  [-0.49462876 -0.04563674  0.27380016 ... -0.4600937  -1.2069012\n",
            "   -0.73713654]]\n",
            "\n",
            " [[-0.49462876  1.6645128  -0.8383158  ... -0.48774832  0.08807408\n",
            "   -1.411436  ]\n",
            "  [-0.49462876  1.5002792  -0.71100676 ... -0.5114523   0.06378136\n",
            "   -1.4127427 ]\n",
            "  [-0.49462876  1.4322184  -0.47070614 ... -0.5233043   0.03946975\n",
            "   -1.4136313 ]\n",
            "  ...\n",
            "  [-0.49462876  0.5523607   0.8449495  ... -0.4521924  -0.00918133\n",
            "   -1.4141533 ]\n",
            "  [-0.49462876  1.7616719  -1.0317945  ... -0.50355095 -0.0335064\n",
            "   -1.4137866 ]\n",
            "  [-0.49462876  1.4107646  -0.6212326  ... -0.5312056  -0.05782157\n",
            "   -1.4130015 ]]\n",
            "\n",
            " ...\n",
            "\n",
            " [[-0.49462876  1.2616967  -0.2605882  ...         nan  0.49609423\n",
            "   -1.3243014 ]\n",
            "  [-0.49462876  2.1694198  -1.7902313  ...         nan  0.47323996\n",
            "   -1.3326398 ]\n",
            "  [-0.49462876  2.055862   -1.6609875  ...         nan  0.45024568\n",
            "   -1.3405839 ]\n",
            "  ...\n",
            "  [-0.49462876 -0.79060596  1.5666252  ...         nan  0.40386418\n",
            "   -1.3552797 ]\n",
            "  [-0.49462876  0.6910715   0.31249592 ...         nan  0.3804907\n",
            "   -1.362027  ]\n",
            "  [-0.49462876  0.5565529   0.83334076 ...         nan  0.3570046\n",
            "   -1.3683714 ]]\n",
            "\n",
            " [[-0.49356738 -1.1094557   1.6974169  ...         nan  1.1382257\n",
            "   -0.8392197 ]\n",
            "  [-0.49250597  2.009995   -0.6788893  ...         nan  1.1236205\n",
            "   -0.8586761 ]\n",
            "  [-0.49339047  2.1659675  -1.419139   ...         nan  1.1086829\n",
            "   -0.87787837]\n",
            "  ...\n",
            "  [-0.49409807  2.0372438  -1.1676166  ...         nan  1.0778279\n",
            "   -0.91549784]\n",
            "  [-0.49445185  2.303322   -1.5681177  ...         nan  1.0619197\n",
            "   -0.933904  ]\n",
            "  [-0.49445185  1.9670871  -1.0356641  ...         nan  1.0456971\n",
            "   -0.95203376]]\n",
            "\n",
            " [[-0.49462876 -0.05747339  0.2370392  ...         nan -1.2885773\n",
            "   -0.58271706]\n",
            "  [-0.49462876  0.2287023  -0.18435755 ...         nan -1.298411\n",
            "   -0.5604648 ]\n",
            "  [-0.49462876  0.20946775 -0.38789722 ...         nan -1.3078606\n",
            "   -0.5380467 ]\n",
            "  ...\n",
            "  [-0.49462876 -0.45622057  0.10895625 ...         nan -1.325596\n",
            "   -0.49273947]\n",
            "  [-0.49462876  0.1024447   0.07683878 ...         nan -1.3338765\n",
            "   -0.46986374]\n",
            "  [-0.49462876 -0.33600459  0.38911352 ...         nan -1.3417623\n",
            "   -0.44684896]]]\n",
            "Example labels: [[[        nan]]\n",
            "\n",
            " [[-0.4403404 ]]\n",
            "\n",
            " [[-0.53515625]]\n",
            "\n",
            " [[        nan]]\n",
            "\n",
            " [[        nan]]\n",
            "\n",
            " [[        nan]]\n",
            "\n",
            " [[        nan]]\n",
            "\n",
            " [[        nan]]\n",
            "\n",
            " [[ 0.5710285 ]]\n",
            "\n",
            " [[        nan]]\n",
            "\n",
            " [[-0.46799502]]\n",
            "\n",
            " [[        nan]]\n",
            "\n",
            " [[-0.43638974]]\n",
            "\n",
            " [[-0.3652779 ]]\n",
            "\n",
            " [[ 0.55522585]]\n",
            "\n",
            " [[        nan]]\n",
            "\n",
            " [[        nan]]\n",
            "\n",
            " [[        nan]]\n",
            "\n",
            " [[-0.4719457 ]]\n",
            "\n",
            " [[        nan]]\n",
            "\n",
            " [[        nan]]\n",
            "\n",
            " [[        nan]]\n",
            "\n",
            " [[-0.16774489]]\n",
            "\n",
            " [[        nan]]\n",
            "\n",
            " [[ 0.62238705]]\n",
            "\n",
            " [[        nan]]\n",
            "\n",
            " [[-0.5786135 ]]\n",
            "\n",
            " [[        nan]]\n",
            "\n",
            " [[        nan]]\n",
            "\n",
            " [[        nan]]\n",
            "\n",
            " [[        nan]]\n",
            "\n",
            " [[        nan]]]\n"
          ]
        }
      ]
    },
    {
      "cell_type": "markdown",
      "source": [
        "Baseline"
      ],
      "metadata": {
        "id": "a9b_ArRnZgKh"
      }
    },
    {
      "cell_type": "code",
      "source": [
        "class Baseline(tf.keras.Model):\n",
        "    def __init__(self, label_index=None):\n",
        "        super().__init__()\n",
        "        self.label_index = label_index\n",
        "\n",
        "    def call(self, inputs):\n",
        "        # If label_index is not provided, return all inputs\n",
        "        if self.label_index is None:\n",
        "            return inputs\n",
        "        # Extract the specific feature (e.g., streamflow)\n",
        "        result = inputs[:, -1, self.label_index]\n",
        "        return result[:, tf.newaxis, tf.newaxis]  # Shape: (batch_size, 1, 1)"
      ],
      "metadata": {
        "id": "MhetHCYoZhep"
      },
      "execution_count": 26,
      "outputs": []
    },
    {
      "cell_type": "code",
      "source": [
        "# Assuming column_indices is a dictionary mapping column names to their indices\n",
        "baseline = Baseline(label_index=column_indices['streamflow'])\n",
        "\n",
        "# Compile the model with loss and metrics\n",
        "baseline.compile(\n",
        "    loss=tf.keras.losses.MeanSquaredError(),\n",
        "    metrics=[tf.keras.metrics.MeanAbsoluteError()]\n",
        ")"
      ],
      "metadata": {
        "id": "xS9AQ1x5bAjj"
      },
      "execution_count": 27,
      "outputs": []
    },
    {
      "cell_type": "code",
      "source": [
        "val_performance = {}\n",
        "performance = {}\n",
        "\n",
        "# Evaluate on validation and test datasets\n",
        "val_performance['Baseline'] = baseline.evaluate(seven_day_window.val, return_dict=True)\n",
        "performance['Baseline'] = baseline.evaluate(seven_day_window.test, verbose=0, return_dict=True)\n",
        "\n",
        "print(\"Validation Performance:\", val_performance['Baseline'])\n",
        "print(\"Test Performance:\", performance['Baseline'])"
      ],
      "metadata": {
        "id": "Yc4QeGsXbD8c",
        "outputId": "bd29c1ce-e11d-491e-f342-ad2a335d9cf6",
        "colab": {
          "base_uri": "https://localhost:8080/"
        }
      },
      "execution_count": 28,
      "outputs": [
        {
          "output_type": "stream",
          "name": "stdout",
          "text": [
            "\u001b[1m49325/49325\u001b[0m \u001b[32m━━━━━━━━━━━━━━━━━━━━\u001b[0m\u001b[37m\u001b[0m \u001b[1m201s\u001b[0m 4ms/step - loss: nan - mean_absolute_error: nan\n",
            "Validation Performance: {'loss': nan, 'mean_absolute_error': nan}\n",
            "Test Performance: {'loss': nan, 'mean_absolute_error': nan}\n"
          ]
        }
      ]
    },
    {
      "cell_type": "code",
      "source": [
        "wide_window = WindowGenerator(\n",
        "    input_width=24, label_width=24, shift=1,\n",
        "    label_columns=['streamflow'])\n",
        "\n",
        "wide_window"
      ],
      "metadata": {
        "id": "s0P-0o0Zbe15",
        "outputId": "9905efe2-862e-4e9e-9fba-b05270bacfa1",
        "colab": {
          "base_uri": "https://localhost:8080/"
        }
      },
      "execution_count": 29,
      "outputs": [
        {
          "output_type": "execute_result",
          "data": {
            "text/plain": [
              "Total window size: 25\n",
              "Input indices: [ 0  1  2  3  4  5  6  7  8  9 10 11 12 13 14 15 16 17 18 19 20 21 22 23]\n",
              "Label indices: [ 1  2  3  4  5  6  7  8  9 10 11 12 13 14 15 16 17 18 19 20 21 22 23 24]\n",
              "Label column name(s): ['streamflow']"
            ]
          },
          "metadata": {},
          "execution_count": 29
        }
      ]
    },
    {
      "cell_type": "markdown",
      "source": [
        "Linear"
      ],
      "metadata": {
        "id": "lHEj_SGIbwQc"
      }
    },
    {
      "cell_type": "code",
      "source": [
        "linear = tf.keras.Sequential([\n",
        "    tf.keras.layers.Dense(units=1)\n",
        "])"
      ],
      "metadata": {
        "id": "StHNdZTsbxjW"
      },
      "execution_count": 32,
      "outputs": []
    },
    {
      "cell_type": "code",
      "source": [
        "MAX_EPOCHS = 20\n",
        "\n",
        "def compile_and_fit(model, window, patience=2):\n",
        "  early_stopping = tf.keras.callbacks.EarlyStopping(monitor='val_loss',\n",
        "                                                    patience=patience,\n",
        "                                                    mode='min')\n",
        "\n",
        "  model.compile(loss=tf.keras.losses.MeanSquaredError(),\n",
        "                optimizer=tf.keras.optimizers.Adam(),\n",
        "                metrics=[tf.keras.metrics.MeanAbsoluteError()])\n",
        "\n",
        "  history = model.fit(window.train, epochs=MAX_EPOCHS,\n",
        "                      validation_data=window.val,\n",
        "                      callbacks=[early_stopping])\n",
        "  return history"
      ],
      "metadata": {
        "id": "Ji2XEiHec73b"
      },
      "execution_count": 33,
      "outputs": []
    },
    {
      "cell_type": "code",
      "source": [
        "history = compile_and_fit(linear, seven_day_window)\n",
        "\n",
        "val_performance['Linear'] = linear.evaluate(seven_day_window.val, return_dict=True)\n",
        "performance['Linear'] = linear.evaluate(seven_day_window.test, verbose=0, return_dict=True)"
      ],
      "metadata": {
        "id": "fEihp1tpdT9O",
        "outputId": "5b4eb8f3-7c3f-4492-c1cf-2ac58689b986",
        "colab": {
          "base_uri": "https://localhost:8080/"
        }
      },
      "execution_count": null,
      "outputs": [
        {
          "output_type": "stream",
          "name": "stdout",
          "text": [
            "Epoch 1/20\n",
            "\u001b[1m172625/172637\u001b[0m \u001b[32m━━━━━━━━━━━━━━━━━━━\u001b[0m\u001b[37m━\u001b[0m \u001b[1m0s\u001b[0m 4ms/step - loss: nan - mean_absolute_error: nan"
          ]
        }
      ]
    },
    {
      "cell_type": "markdown",
      "source": [
        "Make a 1 day ahead prediction"
      ],
      "metadata": {
        "id": "PPWuvBK_e_na"
      }
    },
    {
      "cell_type": "code",
      "source": [
        "df = seven_day_window.test\n",
        "last_7_days = df.tail(7)\n",
        "\n",
        "last_7_days_data = last_7_days.drop(columns='streamflow').values\n",
        "\n",
        "last_7_days_data = last_7_days_data.reshape((1,7,last_7_days_data.shape[1]))\n",
        "\n",
        "prediction = linear.predict(last_7_days_data)\n",
        "\n",
        "print(\"predicted streamflow for the next day: \", prediction)"
      ],
      "metadata": {
        "id": "wxGmBmtHfBwD"
      },
      "execution_count": null,
      "outputs": []
    },
    {
      "cell_type": "markdown",
      "source": [
        "Dense"
      ],
      "metadata": {
        "id": "oVG5CufZd6u0"
      }
    },
    {
      "cell_type": "code",
      "source": [
        "dense = tf.keras.Sequential([\n",
        "    tf.keras.layers.Dense(units=64, activation='relu'),\n",
        "    tf.keras.layers.Dense(units=64, activation='relu'),\n",
        "    tf.keras.layers.Dense(units=1)\n",
        "])\n",
        "\n",
        "history = compile_and_fit(dense, seven_day_window)\n",
        "\n",
        "val_performance['Dense'] = dense.evaluate(seven_day_window.val, return_dict=True)\n",
        "performance['Dense'] = dense.evaluate(seven_day_window.test, verbose=0, return_dict=True)"
      ],
      "metadata": {
        "id": "ThJEK2fqd6XI"
      },
      "execution_count": null,
      "outputs": []
    }
  ],
  "metadata": {
    "kernelspec": {
      "display_name": ".venv",
      "language": "python",
      "name": "python3"
    },
    "language_info": {
      "codemirror_mode": {
        "name": "ipython",
        "version": 3
      },
      "file_extension": ".py",
      "mimetype": "text/x-python",
      "name": "python",
      "nbconvert_exporter": "python",
      "pygments_lexer": "ipython3",
      "version": "3.12.2"
    },
    "colab": {
      "provenance": []
    }
  },
  "nbformat": 4,
  "nbformat_minor": 0
}