{
 "cells": [
  {
   "cell_type": "markdown",
   "metadata": {},
   "source": [
    "Subset.py"
   ]
  },
  {
   "cell_type": "code",
   "execution_count": 2,
   "metadata": {},
   "outputs": [],
   "source": [
    "import pandas as pd\n",
    "\n",
    "def subset(file_paths=[]):\n",
    "\n",
    "    dataframes = [pd.read_csv(file) for file in file_paths]\n",
    "    combined_df = pd.concat(dataframes, ignore_index=True)\n",
    "\n",
    "    return combined_df"
   ]
  },
  {
   "cell_type": "markdown",
   "metadata": {},
   "source": [
    "Dataset.py"
   ]
  },
  {
   "cell_type": "code",
   "execution_count": null,
   "metadata": {},
   "outputs": [],
   "source": [
    "from sklearn.model_selection import train_test_split\n",
    "def dataset():\n",
    "    file_paths = [\n",
    "        'combined_features_with_date1.csv',\n",
    "        'combined_features_with_date2.csv',\n",
    "        'combined_features_with_date3.csv'\n",
    "    ]\n",
    "\n",
    "    Dataset = subset(file_paths=file_paths)\n",
    "\n",
    "    # Step 4: Split the Dataset into Training and Testing data (80% training, 20% testing)\n",
    "    TrainingData, TestData = train_test_split(Dataset, test_size=0.2, random_state=42)\n",
    "\n",
    "    # Step 5: Export the datasets to CSV files\n",
    "    TrainingData.to_csv(\"TrainingData.csv\", index=False)\n",
    "    TestData.to_csv(\"TestData.csv\", index=False)\n",
    "\n",
    "    with open(\"features_info.txt\", \"w\") as f:\n",
    "        f.write(\"Features used:\\n\")\n",
    "        for feature in Dataset.columns:\n",
    "            f.write(f\"{feature}\\n\")\n",
    "\n",
    "    print(\"Datasets have been successfully split and saved as 'TrainingData.csv' and 'TestData.csv'.\")\n",
    "    print(\"Features info saved as 'features_info.txt'.\")\n",
    "\n",
    "    return TrainingData, TestData\n"
   ]
  },
  {
   "cell_type": "markdown",
   "metadata": {},
   "source": [
    "neuralnet.py"
   ]
  },
  {
   "cell_type": "code",
   "execution_count": null,
   "metadata": {},
   "outputs": [],
   "source": [
    "import tensorflow as tf\n",
    "from sklearn.model_selection import train_test_split\n",
    "from sklearn.preprocessing import StandardScaler\n",
    "import pandas as pd\n",
    "import numpy as np\n",
    "\n",
    "def build_model(input_size):\n",
    "    model = tf.keras.Sequential([\n",
    "        tf.keras.layers.Dense(64, activation='relu', input_shape=(input_size,)),\n",
    "        tf.keras.layers.Dense(32, activation='relu'),\n",
    "        tf.keras.layers.Dense(1) \n",
    "    ])\n",
    "    model.compile(optimizer='adam', loss='mse', metrics=['mae'])\n",
    "    return model\n",
    "\n",
    "def train_nn(TrainingData, epochs=100, batch_size=32):\n",
    "   \n",
    "    X = TrainingData.drop(columns=[\"streamflow\"]).values\n",
    "    y = TrainingData[\"streamflow\"].values\n",
    "\n",
    "\n",
    "    scaler = StandardScaler()\n",
    "    X = scaler.fit_transform(X)\n",
    "\n",
    "\n",
    "    input_size = X.shape[1]\n",
    "    model = build_model(input_size)\n",
    "\n",
    "    # Train the model\n",
    "    model.fit(X, y, epochs=epochs, batch_size=batch_size, validation_split=0.2, verbose=1)\n",
    "    print(\"Model training complete.\")\n",
    "    \n",
    "    return model, scaler\n",
    "\n",
    "\n",
    "if __name__ == \"__main__\":\n",
    "    train_data, test_data = dataset()\n",
    "\n",
    "    # Load training data\n",
    "    NNModel, scaler = train_nn(train_data)"
   ]
  }
 ],
 "metadata": {
  "kernelspec": {
   "display_name": ".venv",
   "language": "python",
   "name": "python3"
  },
  "language_info": {
   "codemirror_mode": {
    "name": "ipython",
    "version": 3
   },
   "file_extension": ".py",
   "mimetype": "text/x-python",
   "name": "python",
   "nbconvert_exporter": "python",
   "pygments_lexer": "ipython3",
   "version": "3.12.2"
  }
 },
 "nbformat": 4,
 "nbformat_minor": 2
}
