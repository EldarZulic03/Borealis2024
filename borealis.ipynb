{
  "cells": [
    {
      "cell_type": "markdown",
      "metadata": {
        "id": "D2aRQ8sD2tLL"
      },
      "source": [
        "Subset.py"
      ]
    },
    {
      "cell_type": "code",
      "execution_count": 3,
      "metadata": {
        "id": "DkcLftAD2tLM"
      },
      "outputs": [],
      "source": [
        "import pandas as pd\n",
        "\n",
        "def subset(file_paths=[]):\n",
        "\n",
        "    dataframes = [pd.read_csv(file) for file in file_paths]\n",
        "    combined_df = pd.concat(dataframes, ignore_index=True)\n",
        "\n",
        "    return combined_df"
      ]
    },
    {
      "cell_type": "code",
      "source": [
        "from google.colab import drive\n",
        "drive.mount('/content/drive')"
      ],
      "metadata": {
        "id": "NSEWijaT30VX",
        "outputId": "68a037ba-c0cc-4dd8-f55e-70b52c0f3a5b",
        "colab": {
          "base_uri": "https://localhost:8080/"
        }
      },
      "execution_count": 4,
      "outputs": [
        {
          "output_type": "stream",
          "name": "stdout",
          "text": [
            "Mounted at /content/drive\n"
          ]
        }
      ]
    },
    {
      "cell_type": "markdown",
      "metadata": {
        "id": "1LdanCNU2tLN"
      },
      "source": [
        "Dataset.py"
      ]
    },
    {
      "cell_type": "code",
      "execution_count": 2,
      "metadata": {
        "id": "-InYUrBM2tLN"
      },
      "outputs": [],
      "source": [
        "from sklearn.model_selection import train_test_split\n",
        "def dataset():\n",
        "    file_paths = [\n",
        "        '/content/drive/MyDrive/combined_features_with_date1.csv',\n",
        "        # '/content/drive/MyDrive/combined_features_with_date2.csv',\n",
        "        # '/content/drive/MyDrive/combined_features_with_date3.csv'\n",
        "    ]\n",
        "\n",
        "    Dataset = subset(file_paths=file_paths)\n",
        "\n",
        "    # Step 4: Split the Dataset into Training and Testing data (80% training, 20% testing)\n",
        "    TrainingData, TestData = train_test_split(Dataset, test_size=0.2, random_state=42)\n",
        "\n",
        "    # Step 5: Export the datasets to CSV files\n",
        "    TrainingData.to_csv(\"TrainingData.csv\", index=False)\n",
        "    TestData.to_csv(\"TestData.csv\", index=False)\n",
        "\n",
        "    with open(\"features_info.txt\", \"w\") as f:\n",
        "        f.write(\"Features used:\\n\")\n",
        "        for feature in Dataset.columns:\n",
        "            f.write(f\"{feature}\\n\")\n",
        "\n",
        "    print(\"Datasets have been successfully split and saved as 'TrainingData.csv' and 'TestData.csv'.\")\n",
        "    print(\"Features info saved as 'features_info.txt'.\")\n",
        "\n",
        "    return TrainingData, TestData\n"
      ]
    },
    {
      "cell_type": "markdown",
      "metadata": {
        "id": "aQLmQ_h72tLN"
      },
      "source": [
        "neuralnet.py"
      ]
    },
    {
      "cell_type": "code",
      "execution_count": 5,
      "metadata": {
        "id": "FWkFm8RF2tLO",
        "outputId": "75b3d38b-4637-4223-cf5f-9b313e2f4f13",
        "colab": {
          "base_uri": "https://localhost:8080/"
        }
      },
      "outputs": [
        {
          "output_type": "stream",
          "name": "stdout",
          "text": [
            "Epoch 1/10\n",
            "\u001b[1m91/91\u001b[0m \u001b[32m━━━━━━━━━━━━━━━━━━━━\u001b[0m\u001b[37m\u001b[0m \u001b[1m3s\u001b[0m 5ms/step - loss: 9.5850 - mae: 1.5623 - val_loss: 26.6379 - val_mae: 1.7102\n",
            "Epoch 2/10\n",
            "\u001b[1m91/91\u001b[0m \u001b[32m━━━━━━━━━━━━━━━━━━━━\u001b[0m\u001b[37m\u001b[0m \u001b[1m0s\u001b[0m 2ms/step - loss: 6.5904 - mae: 1.3626 - val_loss: 25.8568 - val_mae: 1.6641\n",
            "Epoch 3/10\n",
            "\u001b[1m91/91\u001b[0m \u001b[32m━━━━━━━━━━━━━━━━━━━━\u001b[0m\u001b[37m\u001b[0m \u001b[1m0s\u001b[0m 2ms/step - loss: 6.4158 - mae: 1.3415 - val_loss: 25.3278 - val_mae: 1.6057\n",
            "Epoch 4/10\n",
            "\u001b[1m91/91\u001b[0m \u001b[32m━━━━━━━━━━━━━━━━━━━━\u001b[0m\u001b[37m\u001b[0m \u001b[1m0s\u001b[0m 2ms/step - loss: 5.9126 - mae: 1.2632 - val_loss: 24.9514 - val_mae: 1.5752\n",
            "Epoch 5/10\n",
            "\u001b[1m91/91\u001b[0m \u001b[32m━━━━━━━━━━━━━━━━━━━━\u001b[0m\u001b[37m\u001b[0m \u001b[1m0s\u001b[0m 3ms/step - loss: 6.1643 - mae: 1.3344 - val_loss: 24.7768 - val_mae: 1.5634\n",
            "Epoch 6/10\n",
            "\u001b[1m91/91\u001b[0m \u001b[32m━━━━━━━━━━━━━━━━━━━━\u001b[0m\u001b[37m\u001b[0m \u001b[1m0s\u001b[0m 2ms/step - loss: 4.5635 - mae: 1.1736 - val_loss: 24.3696 - val_mae: 1.5664\n",
            "Epoch 7/10\n",
            "\u001b[1m91/91\u001b[0m \u001b[32m━━━━━━━━━━━━━━━━━━━━\u001b[0m\u001b[37m\u001b[0m \u001b[1m0s\u001b[0m 2ms/step - loss: 4.8618 - mae: 1.1830 - val_loss: 24.2803 - val_mae: 1.5745\n",
            "Epoch 8/10\n",
            "\u001b[1m91/91\u001b[0m \u001b[32m━━━━━━━━━━━━━━━━━━━━\u001b[0m\u001b[37m\u001b[0m \u001b[1m0s\u001b[0m 2ms/step - loss: 5.4282 - mae: 1.2019 - val_loss: 24.4080 - val_mae: 1.5134\n",
            "Epoch 9/10\n",
            "\u001b[1m91/91\u001b[0m \u001b[32m━━━━━━━━━━━━━━━━━━━━\u001b[0m\u001b[37m\u001b[0m \u001b[1m0s\u001b[0m 2ms/step - loss: 4.9898 - mae: 1.2172 - val_loss: 23.5956 - val_mae: 1.5820\n",
            "Epoch 10/10\n",
            "\u001b[1m91/91\u001b[0m \u001b[32m━━━━━━━━━━━━━━━━━━━━\u001b[0m\u001b[37m\u001b[0m \u001b[1m0s\u001b[0m 2ms/step - loss: 4.5220 - mae: 1.1670 - val_loss: 23.6304 - val_mae: 1.5633\n",
            "Model training complete.\n"
          ]
        }
      ],
      "source": [
        "import tensorflow as tf\n",
        "from sklearn.model_selection import train_test_split\n",
        "from sklearn.preprocessing import StandardScaler\n",
        "import pandas as pd\n",
        "import numpy as np\n",
        "\n",
        "# Define the model-building function\n",
        "def build_model(input_size):\n",
        "    model = tf.keras.Sequential([\n",
        "        tf.keras.layers.Input(shape=(input_size,)),\n",
        "        tf.keras.layers.Dense(64, activation='relu'),\n",
        "        tf.keras.layers.Dense(32, activation='relu'),\n",
        "        tf.keras.layers.Dense(1)\n",
        "    ])\n",
        "    model.compile(optimizer='adam', loss='mse', metrics=['mae'])\n",
        "    return model\n",
        "\n",
        "def train_nn(TrainingData, epochs=10, batch_size=32):\n",
        "    # Drop the 'date' column if it exists\n",
        "    if 'date' in TrainingData.columns:\n",
        "        TrainingData = TrainingData.drop(columns=['date'])\n",
        "\n",
        "    # Check and drop any rows with missing values\n",
        "    TrainingData = TrainingData.dropna()\n",
        "\n",
        "    # Separate features and target\n",
        "    X = TrainingData.drop(columns=[\"streamflow\"]).values\n",
        "    y = TrainingData[\"streamflow\"].values\n",
        "\n",
        "    # Scale features\n",
        "    scaler = StandardScaler()\n",
        "    X = scaler.fit_transform(X)\n",
        "\n",
        "    # y_scaler = StandardScaler()\n",
        "    # y = y_scaler.fit_transform(y.reshape(-1, 1)).flatten()\n",
        "\n",
        "    # Build and train the model\n",
        "    input_size = X.shape[1]\n",
        "    model = build_model(input_size)\n",
        "    model.fit(X, y, epochs=epochs, batch_size=batch_size, validation_split=0.2, verbose=1)\n",
        "    print(\"Model training complete.\")\n",
        "\n",
        "    return model, scaler\n",
        "\n",
        "# Example usage\n",
        "if __name__ == \"__main__\":\n",
        "    # Use only a subset of the data for initial experimentation\n",
        "    train_data = pd.read_csv('/content/TrainingData.csv').sample(10000, random_state=1)\n",
        "\n",
        "    NNModel, scaler = train_nn(train_data)\n"
      ]
    }
  ],
  "metadata": {
    "kernelspec": {
      "display_name": ".venv",
      "language": "python",
      "name": "python3"
    },
    "language_info": {
      "codemirror_mode": {
        "name": "ipython",
        "version": 3
      },
      "file_extension": ".py",
      "mimetype": "text/x-python",
      "name": "python",
      "nbconvert_exporter": "python",
      "pygments_lexer": "ipython3",
      "version": "3.12.2"
    },
    "colab": {
      "provenance": []
    }
  },
  "nbformat": 4,
  "nbformat_minor": 0
}